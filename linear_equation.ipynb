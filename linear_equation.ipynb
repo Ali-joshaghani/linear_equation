{
  "nbformat": 4,
  "nbformat_minor": 0,
  "metadata": {
    "colab": {
      "provenance": [],
      "authorship_tag": "ABX9TyMaGuuDDBR/xPyFxHd9t1sW",
      "include_colab_link": true
    },
    "kernelspec": {
      "name": "python3",
      "display_name": "Python 3"
    },
    "language_info": {
      "name": "python"
    }
  },
  "cells": [
    {
      "cell_type": "markdown",
      "metadata": {
        "id": "view-in-github",
        "colab_type": "text"
      },
      "source": [
        "<a href=\"https://colab.research.google.com/github/Ali-joshaghani/linear_equation/blob/main/linear_equation.ipynb\" target=\"_parent\"><img src=\"https://colab.research.google.com/assets/colab-badge.svg\" alt=\"Open In Colab\"/></a>"
      ]
    },
    {
      "cell_type": "markdown",
      "source": [
        "# Solution of linear equations\n",
        "\n"
      ],
      "metadata": {
        "id": "8zJkPD7-qgsR"
      }
    },
    {
      "cell_type": "markdown",
      "source": [
        "## Receive X , Y and send the Solution of linear equations"
      ],
      "metadata": {
        "id": "2i8JavNMynys"
      }
    },
    {
      "cell_type": "code",
      "execution_count": 34,
      "metadata": {
        "colab": {
          "base_uri": "https://localhost:8080/"
        },
        "id": "ZVw7MBcVq3-2",
        "outputId": "c27cb751-e556-402c-8e80-e5b60e03547d"
      },
      "outputs": [
        {
          "output_type": "stream",
          "name": "stdout",
          "text": [
            "enter a = 1\n",
            "enter b = 2\n",
            "enter c = 3\n",
            "enter d = 4\n",
            "enter e = 8\n",
            "enter f = 18\n",
            "Solution of linear equations: [2. 3.]\n"
          ]
        }
      ],
      "source": [
        "import numpy as np\n",
        "\n",
        "# a*x + b*y = e\n",
        "# c*x + d*y = f\n",
        "\n",
        "#input numbers\n",
        "a=float(input(\"enter a = \"))\n",
        "b=float(input(\"enter b = \"))\n",
        "c=float(input(\"enter c = \"))\n",
        "d=float(input(\"enter d = \"))\n",
        "e=float(input(\"enter e = \"))\n",
        "f=float(input(\"enter f = \"))\n",
        "# Coefficients\n",
        "Coefficients = np.array([[a, b], [c, d]])\n",
        "\n",
        "# Fixed values\n",
        "Fixed_values = np.array([e, f])\n",
        "\n",
        "print(\"Solution of linear equations:\", np.linalg.solve(Coefficients , Fixed_values))\n"
      ]
    },
    {
      "cell_type": "markdown",
      "source": [
        "## Receive linear equations and send the Four X's and four Y's"
      ],
      "metadata": {
        "id": "fTWlpe7My0ry"
      }
    },
    {
      "cell_type": "code",
      "source": [
        "# y = mx + b\n",
        "m = float(input(\"enter m = \"))\n",
        "b = float(input(\"enter b = \"))\n",
        "x1 = float(1)\n",
        "x2 = float(2)\n",
        "x3 = float(3)\n",
        "x4 = float(4)\n",
        "y1 = m * x1  + b\n",
        "y2 = m * x2  + b\n",
        "y3 = m * x3  + b\n",
        "y4 = m * x4  + b\n",
        "x = [x1,x2,x3,x4]\n",
        "y = [y1,y2,y3,y4]\n",
        "print(\"X = \",x)\n",
        "print(\"Y = \",y)"
      ],
      "metadata": {
        "id": "iskOVRBe1bgF"
      },
      "execution_count": null,
      "outputs": []
    },
    {
      "cell_type": "markdown",
      "source": [
        "## Generate a graph with two x's and two y's"
      ],
      "metadata": {
        "id": "_oQdkfZh5bka"
      }
    },
    {
      "cell_type": "code",
      "source": [
        "import matplotlib.pyplot as plt\n",
        "# x = [x1 , x2]\n",
        "# y = [y1 ,y2]\n",
        "# input numbers\n",
        "x1=float(input(\"enter x1 = \"))\n",
        "x2=float(input(\"enter x2 = \"))\n",
        "y1=float(input(\"enter y1 = \"))\n",
        "y2=float(input(\"enter y2 = \"))\n",
        "# Define x and y values for two sets of points\n",
        "x = [x1 , x2]\n",
        "y = [y1 ,y2]\n",
        "\n",
        "\n",
        "\n",
        "# Create the plot and set the axis labels\n",
        "plt.plot(x, y, label='Line')\n",
        "plt.xlabel('X-axis')\n",
        "plt.ylabel('Y-axis')\n",
        "\n",
        "# Add a legend and show the plot\n",
        "plt.legend()\n",
        "plt.show()"
      ],
      "metadata": {
        "id": "hI8i2o2n5tb2"
      },
      "execution_count": null,
      "outputs": []
    }
  ]
}